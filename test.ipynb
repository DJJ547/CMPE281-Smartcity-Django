{
 "cells": [
  {
   "cell_type": "code",
   "execution_count": 26,
   "metadata": {},
   "outputs": [],
   "source": [
    "import pandas as pd\n",
    "import numpy as np\n",
    "from sklearn.model_selection import train_test_split\n",
    "from sklearn.preprocessing import LabelEncoder, MinMaxScaler\n",
    "from keras.models import load_model\n",
    "import keras\n",
    "from keras.models import Sequential\n",
    "from keras.layers import Dense\n",
    "from keras.layers import LSTM\n",
    "from keras.layers import Dropout"
   ]
  },
  {
   "cell_type": "code",
   "execution_count": 9,
   "metadata": {},
   "outputs": [
    {
     "data": {
      "text/html": [
       "<div>\n",
       "<style scoped>\n",
       "    .dataframe tbody tr th:only-of-type {\n",
       "        vertical-align: middle;\n",
       "    }\n",
       "\n",
       "    .dataframe tbody tr th {\n",
       "        vertical-align: top;\n",
       "    }\n",
       "\n",
       "    .dataframe thead th {\n",
       "        text-align: right;\n",
       "    }\n",
       "</style>\n",
       "<table border=\"1\" class=\"dataframe\">\n",
       "  <thead>\n",
       "    <tr style=\"text-align: right;\">\n",
       "      <th></th>\n",
       "      <th>Unnamed: 0</th>\n",
       "      <th>308511_speed</th>\n",
       "      <th>308511_flow</th>\n",
       "      <th>308512_speed</th>\n",
       "      <th>308512_flow</th>\n",
       "      <th>311903_speed</th>\n",
       "      <th>311903_flow</th>\n",
       "      <th>311974_speed</th>\n",
       "      <th>311974_flow</th>\n",
       "      <th>312010_speed</th>\n",
       "    </tr>\n",
       "  </thead>\n",
       "  <tbody>\n",
       "    <tr>\n",
       "      <th>0</th>\n",
       "      <td>05/23/2024 00:00:00</td>\n",
       "      <td>66.1</td>\n",
       "      <td>17.0</td>\n",
       "      <td>63.8</td>\n",
       "      <td>43.0</td>\n",
       "      <td>66.5</td>\n",
       "      <td>99.0</td>\n",
       "      <td>70.7</td>\n",
       "      <td>108.0</td>\n",
       "      <td>70.7</td>\n",
       "    </tr>\n",
       "    <tr>\n",
       "      <th>1</th>\n",
       "      <td>05/23/2024 00:05:00</td>\n",
       "      <td>66.0</td>\n",
       "      <td>19.0</td>\n",
       "      <td>63.7</td>\n",
       "      <td>45.0</td>\n",
       "      <td>66.5</td>\n",
       "      <td>84.0</td>\n",
       "      <td>69.7</td>\n",
       "      <td>103.0</td>\n",
       "      <td>69.7</td>\n",
       "    </tr>\n",
       "    <tr>\n",
       "      <th>2</th>\n",
       "      <td>05/23/2024 00:10:00</td>\n",
       "      <td>65.9</td>\n",
       "      <td>19.0</td>\n",
       "      <td>63.7</td>\n",
       "      <td>43.0</td>\n",
       "      <td>66.4</td>\n",
       "      <td>92.0</td>\n",
       "      <td>69.4</td>\n",
       "      <td>106.0</td>\n",
       "      <td>69.4</td>\n",
       "    </tr>\n",
       "    <tr>\n",
       "      <th>3</th>\n",
       "      <td>05/23/2024 00:15:00</td>\n",
       "      <td>66.1</td>\n",
       "      <td>15.0</td>\n",
       "      <td>63.6</td>\n",
       "      <td>42.0</td>\n",
       "      <td>66.5</td>\n",
       "      <td>82.0</td>\n",
       "      <td>70.0</td>\n",
       "      <td>100.0</td>\n",
       "      <td>70.0</td>\n",
       "    </tr>\n",
       "    <tr>\n",
       "      <th>4</th>\n",
       "      <td>05/23/2024 00:20:00</td>\n",
       "      <td>66.0</td>\n",
       "      <td>17.0</td>\n",
       "      <td>63.7</td>\n",
       "      <td>41.0</td>\n",
       "      <td>66.4</td>\n",
       "      <td>96.0</td>\n",
       "      <td>69.7</td>\n",
       "      <td>98.0</td>\n",
       "      <td>69.7</td>\n",
       "    </tr>\n",
       "  </tbody>\n",
       "</table>\n",
       "</div>"
      ],
      "text/plain": [
       "            Unnamed: 0  308511_speed  308511_flow  308512_speed  308512_flow  \\\n",
       "0  05/23/2024 00:00:00          66.1         17.0          63.8         43.0   \n",
       "1  05/23/2024 00:05:00          66.0         19.0          63.7         45.0   \n",
       "2  05/23/2024 00:10:00          65.9         19.0          63.7         43.0   \n",
       "3  05/23/2024 00:15:00          66.1         15.0          63.6         42.0   \n",
       "4  05/23/2024 00:20:00          66.0         17.0          63.7         41.0   \n",
       "\n",
       "   311903_speed  311903_flow  311974_speed  311974_flow  312010_speed  \n",
       "0          66.5         99.0          70.7        108.0          70.7  \n",
       "1          66.5         84.0          69.7        103.0          69.7  \n",
       "2          66.4         92.0          69.4        106.0          69.4  \n",
       "3          66.5         82.0          70.0        100.0          70.0  \n",
       "4          66.4         96.0          69.7         98.0          69.7  "
      ]
     },
     "execution_count": 9,
     "metadata": {},
     "output_type": "execute_result"
    }
   ],
   "source": [
    "data = pd.read_csv('./data/iots.txt', delimiter = \"\\t\")\n",
    "data = data.iloc[:, :10]\n",
    "combined_data = data\n",
    "combined_data.head()"
   ]
  },
  {
   "cell_type": "code",
   "execution_count": 10,
   "metadata": {},
   "outputs": [
    {
     "data": {
      "text/html": [
       "<div>\n",
       "<style scoped>\n",
       "    .dataframe tbody tr th:only-of-type {\n",
       "        vertical-align: middle;\n",
       "    }\n",
       "\n",
       "    .dataframe tbody tr th {\n",
       "        vertical-align: top;\n",
       "    }\n",
       "\n",
       "    .dataframe thead th {\n",
       "        text-align: right;\n",
       "    }\n",
       "</style>\n",
       "<table border=\"1\" class=\"dataframe\">\n",
       "  <thead>\n",
       "    <tr style=\"text-align: right;\">\n",
       "      <th></th>\n",
       "      <th>308511_speed</th>\n",
       "      <th>308511_flow</th>\n",
       "      <th>308512_speed</th>\n",
       "      <th>308512_flow</th>\n",
       "      <th>311903_speed</th>\n",
       "      <th>311903_flow</th>\n",
       "      <th>311974_speed</th>\n",
       "      <th>311974_flow</th>\n",
       "      <th>312010_speed</th>\n",
       "    </tr>\n",
       "    <tr>\n",
       "      <th>time</th>\n",
       "      <th></th>\n",
       "      <th></th>\n",
       "      <th></th>\n",
       "      <th></th>\n",
       "      <th></th>\n",
       "      <th></th>\n",
       "      <th></th>\n",
       "      <th></th>\n",
       "      <th></th>\n",
       "    </tr>\n",
       "  </thead>\n",
       "  <tbody>\n",
       "    <tr>\n",
       "      <th>2024-05-23 00:00:00</th>\n",
       "      <td>66.1</td>\n",
       "      <td>17.0</td>\n",
       "      <td>63.8</td>\n",
       "      <td>43.0</td>\n",
       "      <td>66.5</td>\n",
       "      <td>99.0</td>\n",
       "      <td>70.7</td>\n",
       "      <td>108.0</td>\n",
       "      <td>70.7</td>\n",
       "    </tr>\n",
       "    <tr>\n",
       "      <th>2024-05-23 00:05:00</th>\n",
       "      <td>66.0</td>\n",
       "      <td>19.0</td>\n",
       "      <td>63.7</td>\n",
       "      <td>45.0</td>\n",
       "      <td>66.5</td>\n",
       "      <td>84.0</td>\n",
       "      <td>69.7</td>\n",
       "      <td>103.0</td>\n",
       "      <td>69.7</td>\n",
       "    </tr>\n",
       "    <tr>\n",
       "      <th>2024-05-23 00:10:00</th>\n",
       "      <td>65.9</td>\n",
       "      <td>19.0</td>\n",
       "      <td>63.7</td>\n",
       "      <td>43.0</td>\n",
       "      <td>66.4</td>\n",
       "      <td>92.0</td>\n",
       "      <td>69.4</td>\n",
       "      <td>106.0</td>\n",
       "      <td>69.4</td>\n",
       "    </tr>\n",
       "    <tr>\n",
       "      <th>2024-05-23 00:15:00</th>\n",
       "      <td>66.1</td>\n",
       "      <td>15.0</td>\n",
       "      <td>63.6</td>\n",
       "      <td>42.0</td>\n",
       "      <td>66.5</td>\n",
       "      <td>82.0</td>\n",
       "      <td>70.0</td>\n",
       "      <td>100.0</td>\n",
       "      <td>70.0</td>\n",
       "    </tr>\n",
       "    <tr>\n",
       "      <th>2024-05-23 00:20:00</th>\n",
       "      <td>66.0</td>\n",
       "      <td>17.0</td>\n",
       "      <td>63.7</td>\n",
       "      <td>41.0</td>\n",
       "      <td>66.4</td>\n",
       "      <td>96.0</td>\n",
       "      <td>69.7</td>\n",
       "      <td>98.0</td>\n",
       "      <td>69.7</td>\n",
       "    </tr>\n",
       "  </tbody>\n",
       "</table>\n",
       "</div>"
      ],
      "text/plain": [
       "                     308511_speed  308511_flow  308512_speed  308512_flow  \\\n",
       "time                                                                        \n",
       "2024-05-23 00:00:00          66.1         17.0          63.8         43.0   \n",
       "2024-05-23 00:05:00          66.0         19.0          63.7         45.0   \n",
       "2024-05-23 00:10:00          65.9         19.0          63.7         43.0   \n",
       "2024-05-23 00:15:00          66.1         15.0          63.6         42.0   \n",
       "2024-05-23 00:20:00          66.0         17.0          63.7         41.0   \n",
       "\n",
       "                     311903_speed  311903_flow  311974_speed  311974_flow  \\\n",
       "time                                                                        \n",
       "2024-05-23 00:00:00          66.5         99.0          70.7        108.0   \n",
       "2024-05-23 00:05:00          66.5         84.0          69.7        103.0   \n",
       "2024-05-23 00:10:00          66.4         92.0          69.4        106.0   \n",
       "2024-05-23 00:15:00          66.5         82.0          70.0        100.0   \n",
       "2024-05-23 00:20:00          66.4         96.0          69.7         98.0   \n",
       "\n",
       "                     312010_speed  \n",
       "time                               \n",
       "2024-05-23 00:00:00          70.7  \n",
       "2024-05-23 00:05:00          69.7  \n",
       "2024-05-23 00:10:00          69.4  \n",
       "2024-05-23 00:15:00          70.0  \n",
       "2024-05-23 00:20:00          69.7  "
      ]
     },
     "execution_count": 10,
     "metadata": {},
     "output_type": "execute_result"
    }
   ],
   "source": [
    "combined_data.rename(columns={'Unnamed: 0': 'time'}, inplace=True)\n",
    "# Set the 'time' column as the index\n",
    "combined_data.set_index('time', inplace=True)\n",
    "\n",
    "# Convert the index into a proper datetime format\n",
    "combined_data.index = pd.to_datetime(data.index)\n",
    "\n",
    "# Check the first few rows to confirm\n",
    "combined_data.head()"
   ]
  },
  {
   "cell_type": "code",
   "execution_count": 20,
   "metadata": {},
   "outputs": [],
   "source": [
    "def create_sequences(data, seq_length):\n",
    "    X, y = [], []\n",
    "\n",
    "    for i in range(len(data) - seq_length):\n",
    "        seq = data[i:(i + seq_length)]\n",
    "        X.append(seq[:-1])\n",
    "        y.append(seq[-1])\n",
    "\n",
    "    return np.array(X), np.array(y)\n",
    "\n",
    "data_308511 = combined_data[['308511_speed', '308511_flow']]\n",
    "sclaer = MinMaxScaler(feature_range=(0, 1))\n",
    "scaled_data = sclaer.fit_transform(data_308511)\n",
    "\n",
    "# Choose a sequence length (e.g., 10 time steps)\n",
    "seq_length = 10\n",
    "X, y = create_sequences(scaled_data, seq_length)\n",
    "train_size = int(len(X) * 0.67)  # Taking 67% of data for training\n",
    "X_train, X_test = X[:train_size], X[train_size:]\n",
    "y_train, y_test = y[:train_size], y[train_size:]\n",
    "# Reshape input to be [samples, time steps, features]\n",
    "X_train = np.reshape(X_train, (X_train.shape[0], X_train.shape[1], 2))\n",
    "X_test = np.reshape(X_test, (X_test.shape[0], X_test.shape[1], 2))"
   ]
  },
  {
   "cell_type": "code",
   "execution_count": 28,
   "metadata": {},
   "outputs": [
    {
     "name": "stderr",
     "output_type": "stream",
     "text": [
      "c:\\Users\\yffan\\Documents\\VScodeProject\\Python\\smartcity-backend\\.venv\\Lib\\site-packages\\keras\\src\\layers\\rnn\\rnn.py:204: UserWarning: Do not pass an `input_shape`/`input_dim` argument to a layer. When using Sequential models, prefer using an `Input(shape)` object as the first layer in the model instead.\n",
      "  super().__init__(**kwargs)\n"
     ]
    }
   ],
   "source": [
    "# LSTM Model\n",
    "model = Sequential()\n",
    "model.add(LSTM(units=50, return_sequences=True, input_shape=(X_train.shape[1], X_train.shape[2])))\n",
    "model.add(LSTM(units=50))\n",
    "model.add(Dense(units=2))  # for predicting both speed and flow\n",
    "model.compile(optimizer='adam', loss='mean_squared_error')"
   ]
  },
  {
   "cell_type": "code",
   "execution_count": 29,
   "metadata": {},
   "outputs": [
    {
     "data": {
      "text/html": [
       "<pre style=\"white-space:pre;overflow-x:auto;line-height:normal;font-family:Menlo,'DejaVu Sans Mono',consolas,'Courier New',monospace\"><span style=\"font-weight: bold\">Model: \"sequential\"</span>\n",
       "</pre>\n"
      ],
      "text/plain": [
       "\u001b[1mModel: \"sequential\"\u001b[0m\n"
      ]
     },
     "metadata": {},
     "output_type": "display_data"
    },
    {
     "data": {
      "text/html": [
       "<pre style=\"white-space:pre;overflow-x:auto;line-height:normal;font-family:Menlo,'DejaVu Sans Mono',consolas,'Courier New',monospace\">┏━━━━━━━━━━━━━━━━━━━━━━━━━━━━━━━━━┳━━━━━━━━━━━━━━━━━━━━━━━━┳━━━━━━━━━━━━━━━┓\n",
       "┃<span style=\"font-weight: bold\"> Layer (type)                    </span>┃<span style=\"font-weight: bold\"> Output Shape           </span>┃<span style=\"font-weight: bold\">       Param # </span>┃\n",
       "┡━━━━━━━━━━━━━━━━━━━━━━━━━━━━━━━━━╇━━━━━━━━━━━━━━━━━━━━━━━━╇━━━━━━━━━━━━━━━┩\n",
       "│ lstm (<span style=\"color: #0087ff; text-decoration-color: #0087ff\">LSTM</span>)                     │ (<span style=\"color: #00d7ff; text-decoration-color: #00d7ff\">None</span>, <span style=\"color: #00af00; text-decoration-color: #00af00\">9</span>, <span style=\"color: #00af00; text-decoration-color: #00af00\">50</span>)          │        <span style=\"color: #00af00; text-decoration-color: #00af00\">10,600</span> │\n",
       "├─────────────────────────────────┼────────────────────────┼───────────────┤\n",
       "│ lstm_1 (<span style=\"color: #0087ff; text-decoration-color: #0087ff\">LSTM</span>)                   │ (<span style=\"color: #00d7ff; text-decoration-color: #00d7ff\">None</span>, <span style=\"color: #00af00; text-decoration-color: #00af00\">50</span>)             │        <span style=\"color: #00af00; text-decoration-color: #00af00\">20,200</span> │\n",
       "├─────────────────────────────────┼────────────────────────┼───────────────┤\n",
       "│ dense (<span style=\"color: #0087ff; text-decoration-color: #0087ff\">Dense</span>)                   │ (<span style=\"color: #00d7ff; text-decoration-color: #00d7ff\">None</span>, <span style=\"color: #00af00; text-decoration-color: #00af00\">2</span>)              │           <span style=\"color: #00af00; text-decoration-color: #00af00\">102</span> │\n",
       "└─────────────────────────────────┴────────────────────────┴───────────────┘\n",
       "</pre>\n"
      ],
      "text/plain": [
       "┏━━━━━━━━━━━━━━━━━━━━━━━━━━━━━━━━━┳━━━━━━━━━━━━━━━━━━━━━━━━┳━━━━━━━━━━━━━━━┓\n",
       "┃\u001b[1m \u001b[0m\u001b[1mLayer (type)                   \u001b[0m\u001b[1m \u001b[0m┃\u001b[1m \u001b[0m\u001b[1mOutput Shape          \u001b[0m\u001b[1m \u001b[0m┃\u001b[1m \u001b[0m\u001b[1m      Param #\u001b[0m\u001b[1m \u001b[0m┃\n",
       "┡━━━━━━━━━━━━━━━━━━━━━━━━━━━━━━━━━╇━━━━━━━━━━━━━━━━━━━━━━━━╇━━━━━━━━━━━━━━━┩\n",
       "│ lstm (\u001b[38;5;33mLSTM\u001b[0m)                     │ (\u001b[38;5;45mNone\u001b[0m, \u001b[38;5;34m9\u001b[0m, \u001b[38;5;34m50\u001b[0m)          │        \u001b[38;5;34m10,600\u001b[0m │\n",
       "├─────────────────────────────────┼────────────────────────┼───────────────┤\n",
       "│ lstm_1 (\u001b[38;5;33mLSTM\u001b[0m)                   │ (\u001b[38;5;45mNone\u001b[0m, \u001b[38;5;34m50\u001b[0m)             │        \u001b[38;5;34m20,200\u001b[0m │\n",
       "├─────────────────────────────────┼────────────────────────┼───────────────┤\n",
       "│ dense (\u001b[38;5;33mDense\u001b[0m)                   │ (\u001b[38;5;45mNone\u001b[0m, \u001b[38;5;34m2\u001b[0m)              │           \u001b[38;5;34m102\u001b[0m │\n",
       "└─────────────────────────────────┴────────────────────────┴───────────────┘\n"
      ]
     },
     "metadata": {},
     "output_type": "display_data"
    },
    {
     "data": {
      "text/html": [
       "<pre style=\"white-space:pre;overflow-x:auto;line-height:normal;font-family:Menlo,'DejaVu Sans Mono',consolas,'Courier New',monospace\"><span style=\"font-weight: bold\"> Total params: </span><span style=\"color: #00af00; text-decoration-color: #00af00\">30,902</span> (120.71 KB)\n",
       "</pre>\n"
      ],
      "text/plain": [
       "\u001b[1m Total params: \u001b[0m\u001b[38;5;34m30,902\u001b[0m (120.71 KB)\n"
      ]
     },
     "metadata": {},
     "output_type": "display_data"
    },
    {
     "data": {
      "text/html": [
       "<pre style=\"white-space:pre;overflow-x:auto;line-height:normal;font-family:Menlo,'DejaVu Sans Mono',consolas,'Courier New',monospace\"><span style=\"font-weight: bold\"> Trainable params: </span><span style=\"color: #00af00; text-decoration-color: #00af00\">30,902</span> (120.71 KB)\n",
       "</pre>\n"
      ],
      "text/plain": [
       "\u001b[1m Trainable params: \u001b[0m\u001b[38;5;34m30,902\u001b[0m (120.71 KB)\n"
      ]
     },
     "metadata": {},
     "output_type": "display_data"
    },
    {
     "data": {
      "text/html": [
       "<pre style=\"white-space:pre;overflow-x:auto;line-height:normal;font-family:Menlo,'DejaVu Sans Mono',consolas,'Courier New',monospace\"><span style=\"font-weight: bold\"> Non-trainable params: </span><span style=\"color: #00af00; text-decoration-color: #00af00\">0</span> (0.00 B)\n",
       "</pre>\n"
      ],
      "text/plain": [
       "\u001b[1m Non-trainable params: \u001b[0m\u001b[38;5;34m0\u001b[0m (0.00 B)\n"
      ]
     },
     "metadata": {},
     "output_type": "display_data"
    }
   ],
   "source": [
    "model.summary()"
   ]
  },
  {
   "cell_type": "code",
   "execution_count": null,
   "metadata": {},
   "outputs": [],
   "source": []
  }
 ],
 "metadata": {
  "kernelspec": {
   "display_name": "Python 3",
   "language": "python",
   "name": "python3"
  },
  "language_info": {
   "codemirror_mode": {
    "name": "ipython",
    "version": 3
   },
   "file_extension": ".py",
   "mimetype": "text/x-python",
   "name": "python",
   "nbconvert_exporter": "python",
   "pygments_lexer": "ipython3",
   "version": "3.11.5"
  }
 },
 "nbformat": 4,
 "nbformat_minor": 2
}
